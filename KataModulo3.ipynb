{
 "cells": [
  {
   "cell_type": "markdown",
   "metadata": {},
   "source": [
    "Un asteroide se acerca a mas de 25k/h\n"
   ]
  },
  {
   "cell_type": "code",
   "execution_count": 2,
   "metadata": {},
   "outputs": [
    {
     "name": "stdout",
     "output_type": "stream",
     "text": [
      "Un asteroide viene a la tierra\n"
     ]
    }
   ],
   "source": [
    "asteroide = 49\n",
    "\n",
    "if asteroide > 25:\n",
    "    print (\"Un asteroide viene a la tierra\")     \n",
    "else:\n",
    "    print (\"Puedes seguir con tu dia\")  "
   ]
  },
  {
   "cell_type": "markdown",
   "metadata": {},
   "source": [
    "Un asteroide entra a la superficie de la Tierra"
   ]
  },
  {
   "cell_type": "code",
   "execution_count": 5,
   "metadata": {},
   "outputs": [
    {
     "name": "stdout",
     "output_type": "stream",
     "text": [
      "El dia esta normal\n"
     ]
    }
   ],
   "source": [
    "asteroide = 19\n",
    "\n",
    "if asteroide > 20:\n",
    "    print (\"Hay un rayo de luz en el cielo\")\n",
    "\n",
    "elif asteroide == 20:\n",
    "    print (\"Hay un rayo de Luz en el cielo\") \n",
    "\n",
    "else:\n",
    "    print (\"El dia esta normal\")"
   ]
  },
  {
   "cell_type": "markdown",
   "metadata": {},
   "source": [
    "Tamaño y Velocidad de un asteroide\n"
   ]
  },
  {
   "cell_type": "code",
   "execution_count": 6,
   "metadata": {},
   "outputs": [
    {
     "name": "stdout",
     "output_type": "stream",
     "text": [
      "Hay un rayo de luz en el cielo\n"
     ]
    }
   ],
   "source": [
    "tamaño_asteroide = 30\n",
    "velocidad_asteroide = 25\n",
    "\n",
    "if velocidad_asteroide > 25 and tamaño_asteroide > 25:\n",
    "    print(\"Un asteroide se acerca peligrosamente a la tierra\")\n",
    "\n",
    "elif velocidad_asteroide >= 20:\n",
    "    print(\"Hay un rayo de luz en el cielo\")\n",
    "\n",
    "elif tamaño_asteroide < 25:\n",
    "    print(\"El dia esta normal\")\n",
    "\n",
    "else:\n",
    "    print(\"El dia esta normal\")"
   ]
  }
 ],
 "metadata": {
  "interpreter": {
   "hash": "4ce0e62306dd6a5716965d4519ada776f947e6dfc145b604b11307c10277ef29"
  },
  "kernelspec": {
   "display_name": "Python 3.9.7 64-bit",
   "language": "python",
   "name": "python3"
  },
  "language_info": {
   "codemirror_mode": {
    "name": "ipython",
    "version": 3
   },
   "file_extension": ".py",
   "mimetype": "text/x-python",
   "name": "python",
   "nbconvert_exporter": "python",
   "pygments_lexer": "ipython3",
   "version": "3.9.7"
  },
  "orig_nbformat": 4
 },
 "nbformat": 4,
 "nbformat_minor": 2
}
