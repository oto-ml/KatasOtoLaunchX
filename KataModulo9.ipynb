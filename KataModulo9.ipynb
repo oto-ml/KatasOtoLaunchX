{
 "cells": [
  {
   "cell_type": "markdown",
   "metadata": {},
   "source": [
    "Ejercicio 1: Trabajar con argumentos en funciones "
   ]
  },
  {
   "cell_type": "markdown",
   "metadata": {},
   "source": [
    "Comienza por crear una función que necesite tres lecturas de combustible y devuelva un informe:"
   ]
  },
  {
   "cell_type": "code",
   "execution_count": 5,
   "metadata": {},
   "outputs": [],
   "source": [
    "# Función para leer 3 tanques de combustible y muestre el promedio\n",
    "def report(tanque_1, tanque_2, tanque_3):\n",
    "    promedio = (tanque_1+tanque_2+tanque_3) /3\n",
    "    return f\"\"\"Reporte de los tanques de combustible:\n",
    "    Promedio: {promedio}%\n",
    "    Tanque Principal: {tanque_1}%\n",
    "    Tanque externo: {tanque_2}%\n",
    "    Tanque de Hydrogeno: {tanque_3}% \n",
    "    \"\"\""
   ]
  },
  {
   "cell_type": "markdown",
   "metadata": {},
   "source": [
    "Ahora que hemos definido la función de informes, vamos a comprobarlo. Para esta misión, los tanques no están llenos:"
   ]
  },
  {
   "cell_type": "code",
   "execution_count": 6,
   "metadata": {},
   "outputs": [
    {
     "name": "stdout",
     "output_type": "stream",
     "text": [
      "Reporte de los tanques de combustible:\n",
      "    Promedio: 0.0%\n",
      "    Tanque Principal: 0%\n",
      "    Tanque externo: 0%\n",
      "    Tanque de Hydrogeno: 0% \n",
      "    \n"
     ]
    }
   ],
   "source": [
    "# Llamamos a la función que genera el reporte print(funcion(tanque1, tanque2, tanque3))\n",
    "print(report(0,0,0))"
   ]
  },
  {
   "cell_type": "markdown",
   "metadata": {},
   "source": [
    "En lugar de simplemente crear el informe, la función también está calculando el promedio. Mejora la legibilidad extrayendo el cálculo promedio de la función en una nueva función para que el promedio se pueda hacer de forma independiente:"
   ]
  },
  {
   "cell_type": "code",
   "execution_count": 7,
   "metadata": {},
   "outputs": [],
   "source": [
    "# Función promedio \n",
    "def Promedio(values):\n",
    "    total=sum(values)\n",
    "    numero_de_items=len(values)\n",
    "    return total/ numero_de_items"
   ]
  },
  {
   "cell_type": "markdown",
   "metadata": {},
   "source": [
    "Ahora actualiza la función de informes para llamando a la nueva función del promedio:"
   ]
  },
  {
   "cell_type": "code",
   "execution_count": 8,
   "metadata": {},
   "outputs": [
    {
     "name": "stdout",
     "output_type": "stream",
     "text": [
      "Reporte de los tanques de combustible:\n",
      "    Promedio: 0.0%\n",
      "    Tanque principal: 0%\n",
      "    Tanque externo: 0%\n",
      "    Tanque de Hidrogeno: 0% \n",
      "    \n"
     ]
    }
   ],
   "source": [
    "# Actualiza la función\n",
    "def report(tanque_1, tanque_2, tanque_3):\n",
    "    return f\"\"\"Reporte de los tanques de combustible:\n",
    "    Promedio: {Promedio([tanque_1, tanque_2, tanque_3])}%\n",
    "    Tanque principal: {tanque_1}%\n",
    "    Tanque externo: {tanque_2}%\n",
    "    Tanque de Hidrogeno: {tanque_3}% \n",
    "    \"\"\"\n",
    "print(report(0, 0, 0))"
   ]
  },
  {
   "cell_type": "markdown",
   "metadata": {},
   "source": [
    "Ejercicio 2: Trabajo con argumentos de palabra clave\n",
    "\n",
    "\n",
    "Ejercicio : Trabajar con argumentos de palabras clave en funciones"
   ]
  },
  {
   "cell_type": "markdown",
   "metadata": {},
   "source": [
    "En este ejercicio, construirás un informe de cohete que requiere varias piezas de información, como el tiempo hasta el destino, el combustible a la izquierda y el nombre del destino. Comienza por crear una función que creará un informe preciso de la misión:"
   ]
  },
  {
   "cell_type": "code",
   "execution_count": 9,
   "metadata": {},
   "outputs": [],
   "source": [
    "# Función con un informe preciso de la misión. Considera hora de prelanzamiento, tiempo de vuelo, destino, tanque externo y tanque interno\n",
    "def Reporte(hora, t_vuelo,destino, tanque_e, tanque_i):\n",
    "   return f\"\"\"Reporte de la misión:\n",
    "Hora de prelanzamiento en: {hora} minutos\n",
    "Tiempo de vuelo : {t_vuelo} minutos\n",
    "Combustible de tanque externo:{tanque_e} galones\n",
    "Combustible del tanque interno: {tanque_i} galones\n",
    "Con destino a : {destino}\n",
    "Total estimado de viaje: {hora+t_vuelo} minutos\n",
    "Total de combustible: {tanque_i + tanque_e} galones\"\"\""
   ]
  },
  {
   "cell_type": "code",
   "execution_count": 10,
   "metadata": {},
   "outputs": [
    {
     "name": "stdout",
     "output_type": "stream",
     "text": [
      "Reporte de la misión:\n",
      "Hora de prelanzamiento en: 14 minutos\n",
      "Tiempo de vuelo : 51 minutos\n",
      "Combustible de tanque externo:200000 galones\n",
      "Combustible del tanque interno: 300000 galones\n",
      "Con destino a : Luna\n",
      "Total estimado de viaje: 65 minutos\n",
      "Total de combustible: 500000 galones\n"
     ]
    }
   ],
   "source": [
    "#test\n",
    "print(Reporte(14, 51, \"Luna\", 200000, 300000))"
   ]
  },
  {
   "cell_type": "markdown",
   "metadata": {},
   "source": [
    "La función es problemática porque no se puede adaptar para minutos adicionales o tanques adicionales de combustible. Hazlo más flexible permitiendo cualquier número de pasos basados en el tiempo y cualquier número de tanques. En lugar de usar args y **kwargs, aprovecha el hecho de que puedes usar cualquier nombre que desees. Asegurate que la función sea más legible mediante el uso de nombres de variables que están asociados con las entradas, como minutes y **fuel_reservoirs:"
   ]
  },
  {
   "cell_type": "code",
   "execution_count": 11,
   "metadata": {},
   "outputs": [],
   "source": [
    "# Escribe tu nueva función de reporte considerando lo anterior\n",
    "def Reporte(destino, *minutos, **combustible):\n",
    "   return f\"\"\"Reporte de la misión:\n",
    "Con destino a : {destino}\n",
    "Total estimado de viaje: {sum(minutos)} minutos\n",
    "Total de combustible: {sum(combustible.values())} galones\"\"\""
   ]
  },
  {
   "cell_type": "code",
   "execution_count": 12,
   "metadata": {},
   "outputs": [
    {
     "name": "stdout",
     "output_type": "stream",
     "text": [
      "Reporte de la misión:\n",
      "Con destino a : Moon\n",
      "Total estimado de viaje: 76 minutos\n",
      "Total de combustible: 500000 galones\n"
     ]
    }
   ],
   "source": [
    "#test\n",
    "print(Reporte(\"Moon\", 10, 15, 51, main=300000, external=200000))"
   ]
  },
  {
   "cell_type": "markdown",
   "metadata": {},
   "source": [
    "Debido a que el combustible que queda en los tanques es específico de cada tanque, actualiza la función para usar el nombre de cada tanque en el informe:"
   ]
  },
  {
   "cell_type": "code",
   "execution_count": 13,
   "metadata": {},
   "outputs": [],
   "source": [
    "# Escribe tu nueva función\n",
    "def Reporte(destino, *minutos, **combustible):\n",
    "   reporte_principal = f\"\"\"Reporte de la misión:\n",
    "Con destino a : {destino}\n",
    "Total estimado de viaje: {sum(minutos)} minutos\n",
    "Total de combustible: {sum(combustible.values())}\"\"\"\n",
    "\n",
    "   for tank_name, galones in combustible.items():\n",
    "       reporte_principal += f\"{tank_name} tanque -->{galones} galones izquierda\\n\"\n",
    "       \n",
    "       return reporte_principal"
   ]
  },
  {
   "cell_type": "code",
   "execution_count": 14,
   "metadata": {},
   "outputs": [
    {
     "name": "stdout",
     "output_type": "stream",
     "text": [
      "Reporte de la misión:\n",
      "Con destino a : Moon\n",
      "Total estimado de viaje: 74 minutos\n",
      "Total de combustible: 500000main tanque -->300000 galones izquierda\n",
      "\n"
     ]
    }
   ],
   "source": [
    "#test\n",
    "print(Reporte(\"Moon\", 8, 11, 55, main=300000, external=200000))"
   ]
  }
 ],
 "metadata": {
  "interpreter": {
   "hash": "4ce0e62306dd6a5716965d4519ada776f947e6dfc145b604b11307c10277ef29"
  },
  "kernelspec": {
   "display_name": "Python 3.9.7 64-bit",
   "language": "python",
   "name": "python3"
  },
  "language_info": {
   "codemirror_mode": {
    "name": "ipython",
    "version": 3
   },
   "file_extension": ".py",
   "mimetype": "text/x-python",
   "name": "python",
   "nbconvert_exporter": "python",
   "pygments_lexer": "ipython3",
   "version": "3.9.7"
  },
  "orig_nbformat": 4
 },
 "nbformat": 4,
 "nbformat_minor": 2
}
